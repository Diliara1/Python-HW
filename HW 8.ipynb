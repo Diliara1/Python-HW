{
 "cells": [
  {
   "cell_type": "code",
   "execution_count": 1,
   "id": "cdc5474d-2131-4f31-9142-96e9aadbecfb",
   "metadata": {},
   "outputs": [
    {
     "data": {
      "text/html": [
       "<div>\n",
       "<style scoped>\n",
       "    .dataframe tbody tr th:only-of-type {\n",
       "        vertical-align: middle;\n",
       "    }\n",
       "\n",
       "    .dataframe tbody tr th {\n",
       "        vertical-align: top;\n",
       "    }\n",
       "\n",
       "    .dataframe thead th {\n",
       "        text-align: right;\n",
       "    }\n",
       "</style>\n",
       "<table border=\"1\" class=\"dataframe\">\n",
       "  <thead>\n",
       "    <tr style=\"text-align: right;\">\n",
       "      <th></th>\n",
       "      <th>surgery</th>\n",
       "      <th>age</th>\n",
       "      <th>hospital_number</th>\n",
       "      <th>rectal_temp</th>\n",
       "      <th>pulse</th>\n",
       "      <th>respiratory_rate</th>\n",
       "      <th>temperature_extremities</th>\n",
       "      <th>peripheral_pulse</th>\n",
       "    </tr>\n",
       "  </thead>\n",
       "  <tbody>\n",
       "    <tr>\n",
       "      <th>0</th>\n",
       "      <td>2</td>\n",
       "      <td>1</td>\n",
       "      <td>530101</td>\n",
       "      <td>38.50</td>\n",
       "      <td>66</td>\n",
       "      <td>28</td>\n",
       "      <td>3</td>\n",
       "      <td>3</td>\n",
       "    </tr>\n",
       "    <tr>\n",
       "      <th>1</th>\n",
       "      <td>1</td>\n",
       "      <td>1</td>\n",
       "      <td>534817</td>\n",
       "      <td>39.2</td>\n",
       "      <td>88</td>\n",
       "      <td>20</td>\n",
       "      <td>?</td>\n",
       "      <td>?</td>\n",
       "    </tr>\n",
       "    <tr>\n",
       "      <th>2</th>\n",
       "      <td>2</td>\n",
       "      <td>1</td>\n",
       "      <td>530334</td>\n",
       "      <td>38.30</td>\n",
       "      <td>40</td>\n",
       "      <td>24</td>\n",
       "      <td>1</td>\n",
       "      <td>1</td>\n",
       "    </tr>\n",
       "    <tr>\n",
       "      <th>3</th>\n",
       "      <td>1</td>\n",
       "      <td>9</td>\n",
       "      <td>5290409</td>\n",
       "      <td>39.10</td>\n",
       "      <td>164</td>\n",
       "      <td>84</td>\n",
       "      <td>4</td>\n",
       "      <td>1</td>\n",
       "    </tr>\n",
       "    <tr>\n",
       "      <th>4</th>\n",
       "      <td>2</td>\n",
       "      <td>1</td>\n",
       "      <td>530255</td>\n",
       "      <td>37.30</td>\n",
       "      <td>104</td>\n",
       "      <td>35</td>\n",
       "      <td>?</td>\n",
       "      <td>?</td>\n",
       "    </tr>\n",
       "  </tbody>\n",
       "</table>\n",
       "</div>"
      ],
      "text/plain": [
       "  surgery  age  hospital_number rectal_temp pulse respiratory_rate  \\\n",
       "0       2    1           530101       38.50    66               28   \n",
       "1       1    1           534817        39.2    88               20   \n",
       "2       2    1           530334       38.30    40               24   \n",
       "3       1    9          5290409       39.10   164               84   \n",
       "4       2    1           530255       37.30   104               35   \n",
       "\n",
       "  temperature_extremities peripheral_pulse  \n",
       "0                       3                3  \n",
       "1                       ?                ?  \n",
       "2                       1                1  \n",
       "3                       4                1  \n",
       "4                       ?                ?  "
      ]
     },
     "execution_count": 1,
     "metadata": {},
     "output_type": "execute_result"
    }
   ],
   "source": [
    "#HW 8 TASK 1  Базовое изучение\n",
    "import pandas as pd\n",
    "import numpy as np\n",
    "\n",
    "data=pd.read_csv('https://raw.githubusercontent.com/obulygin/pyda_homeworks/master/statistics_basics/horse_data.csv', names=['surgery', 'age', 'hospital_number', 'rectal_temp', 'pulse', 'respiratory_rate',\n",
    "    'temperature_extremities', 'peripheral_pulse', 'mucous_membrane', 'capillary_refill_time',\n",
    "    'pain', 'peristalsis', 'abdominal_distention', 'nasogastric_tube', 'nasogastric_reflux',\n",
    "    'nasogastric_reflux_ph', 'rectal_exam_feces', 'abdomen', 'packed_cell_volume',\n",
    "    'total_protein', 'abdom_appearance', 'abdom_total_protein', 'outcome', 'surgical_lesion',\n",
    "    'lesion_1', 'lesion_2', 'lesion_3', 'cp_data'])\n",
    "data[['surgery', 'age', 'hospital_number', 'rectal_temp', 'pulse', 'respiratory_rate','temperature_extremities', 'peripheral_pulse']].head()"
   ]
  },
  {
   "cell_type": "code",
   "execution_count": 2,
   "id": "27215d89-5ec9-4591-9c0d-0b2bcc461c87",
   "metadata": {},
   "outputs": [],
   "source": [
    "#Возрастная группа пациентов преимущественно младшая (1 год), присутствуют высокие выбросы в столбцах lesion_1, lesion_2, и lesion_3, что следует учитывать при анализе данных. "
   ]
  },
  {
   "cell_type": "code",
   "execution_count": 3,
   "id": "37e40888-6764-4d8f-9f85-367ccd2f9c78",
   "metadata": {},
   "outputs": [
    {
     "name": "stdout",
     "output_type": "stream",
     "text": [
      "              age  hospital_number  surgical_lesion      lesion_1  \\\n",
      "count  300.000000     3.000000e+02       300.000000    300.000000   \n",
      "mean     1.640000     1.085889e+06         1.363333   3657.880000   \n",
      "std      2.173972     1.529801e+06         0.481763   5399.513513   \n",
      "min      1.000000     5.184760e+05         1.000000      0.000000   \n",
      "25%      1.000000     5.289040e+05         1.000000   2111.750000   \n",
      "50%      1.000000     5.303055e+05         1.000000   2673.500000   \n",
      "75%      1.000000     5.347275e+05         2.000000   3209.000000   \n",
      "max      9.000000     5.305629e+06         2.000000  41110.000000   \n",
      "\n",
      "          lesion_2     lesion_3     cp_data  \n",
      "count   300.000000   300.000000  300.000000  \n",
      "mean     90.226667     7.363333    1.670000  \n",
      "std     649.569234   127.536674    0.470998  \n",
      "min       0.000000     0.000000    1.000000  \n",
      "25%       0.000000     0.000000    1.000000  \n",
      "50%       0.000000     0.000000    2.000000  \n",
      "75%       0.000000     0.000000    2.000000  \n",
      "max    7111.000000  2209.000000    2.000000  \n"
     ]
    }
   ],
   "source": [
    "print (data.describe())"
   ]
  },
  {
   "cell_type": "code",
   "execution_count": null,
   "id": "bfdb0564-93ec-450d-acf0-9e856eeee2d3",
   "metadata": {},
   "outputs": [],
   "source": [
    "#9 лет, значительно превышает среднее значение 1.64 года.По lesion_1 41110.0, lesion_2 7111.0 и lesion_3 2209.0 также значительно превышают верхние границ. lesion_2, обозначенная как 7111.0 и lesion_1 41110.0, являются ошибкой ввода данных, поскольку, вместо стандартного диапазона введено некорректное значение выходящие за пределы имеющихся данных."
   ]
  },
  {
   "cell_type": "code",
   "execution_count": 4,
   "id": "3c153b8e-acb2-43e1-9345-2b153711c5ae",
   "metadata": {},
   "outputs": [
    {
     "name": "stdout",
     "output_type": "stream",
     "text": [
      "3657.88\n"
     ]
    }
   ],
   "source": [
    "# TASK 2 (ВЫБРОСЫ)\n",
    "print(data['lesion_1'].mean()) #среднее"
   ]
  },
  {
   "cell_type": "code",
   "execution_count": null,
   "id": "967fbcbb-6da8-4a44-b589-1c164980aacf",
   "metadata": {},
   "outputs": [],
   "source": [
    "#При средней без выбросов болезни как правило такие: большая кишка, поперечная ободочная кишка, слепая кишка, обратная/нисходящая кишка\n"
   ]
  },
  {
   "cell_type": "code",
   "execution_count": 17,
   "id": "231711b6-2e46-4281-a069-da217b70c7ae",
   "metadata": {},
   "outputs": [
    {
     "name": "stdout",
     "output_type": "stream",
     "text": [
      "2246.1825095057034\n"
     ]
    }
   ],
   "source": [
    "print(data[(data['lesion_1'] >= 0) & (data['lesion_1'] < 5500)]['lesion_1'].mean())"
   ]
  },
  {
   "cell_type": "code",
   "execution_count": null,
   "id": "678d52e8-bc8c-4d1a-aa1a-59397be87d12",
   "metadata": {},
   "outputs": [],
   "source": [
    "#Убрав выбросы:  малая кишка,большая кишка и слепая кишка, поперечная ободочная кишка"
   ]
  },
  {
   "cell_type": "code",
   "execution_count": 6,
   "id": "8f3eb55a-740b-4229-a82a-d2b91a0b2bf3",
   "metadata": {},
   "outputs": [
    {
     "name": "stdout",
     "output_type": "stream",
     "text": [
      "2673.5\n"
     ]
    }
   ],
   "source": [
    "print(data['lesion_1'].median())"
   ]
  },
  {
   "cell_type": "code",
   "execution_count": null,
   "id": "5524c253-be17-4489-89cf-acd61f9d3501",
   "metadata": {},
   "outputs": [],
   "source": [
    "#типичным значеним являются малая кишка, поперечная ободочная кишк, абратная/нисходящая кишка, большая кишка"
   ]
  },
  {
   "cell_type": "code",
   "execution_count": 18,
   "id": "07c87146-d9ee-4e43-902a-af389b832d63",
   "metadata": {},
   "outputs": [
    {
     "name": "stdout",
     "output_type": "stream",
     "text": [
      "2208.0\n"
     ]
    }
   ],
   "source": [
    "print(data[(data['lesion_1'] >= 0) & (data['lesion_1'] < 5500)]['lesion_1'].median())"
   ]
  },
  {
   "cell_type": "code",
   "execution_count": 21,
   "id": "45e01989-8071-4852-ae34-38837bff11fe",
   "metadata": {},
   "outputs": [],
   "source": [
    "#Выбросы по медиане:малая кишка, матка"
   ]
  },
  {
   "cell_type": "code",
   "execution_count": 10,
   "id": "7f7cb457-5591-44b7-aab0-e380024331fb",
   "metadata": {},
   "outputs": [
    {
     "name": "stdout",
     "output_type": "stream",
     "text": [
      "0\n"
     ]
    }
   ],
   "source": [
    "print(data['lesion_1'].round().mode()[0])"
   ]
  },
  {
   "cell_type": "code",
   "execution_count": 14,
   "id": "b0a408fe-56f9-4968-b3a0-535bf6aa00d0",
   "metadata": {},
   "outputs": [],
   "source": [
    "#В данном случае, для всего набора данных самым частым значением оказалось 0. То есть лошади как правило не имеют каких-либо заболеваний."
   ]
  },
  {
   "cell_type": "code",
   "execution_count": 19,
   "id": "998855f2-d214-4379-aca8-fc7c35c1166c",
   "metadata": {},
   "outputs": [
    {
     "name": "stdout",
     "output_type": "stream",
     "text": [
      "0\n"
     ]
    }
   ],
   "source": [
    "print(data[(data['lesion_1'] >= 0) & (data['lesion_1'] < 5500)]['lesion_1'].round().mode()[0])"
   ]
  },
  {
   "cell_type": "code",
   "execution_count": null,
   "id": "75460c02-5e9f-44dc-a48e-5992bd73be9f",
   "metadata": {
    "jupyter": {
     "source_hidden": true
    }
   },
   "outputs": [],
   "source": [
    "#тут в принципе все понятно. "
   ]
  },
  {
   "cell_type": "code",
   "execution_count": 20,
   "id": "f6bb4a83-ee10-4a28-b121-e1fdeb3be8ac",
   "metadata": {},
   "outputs": [
    {
     "data": {
      "text/plain": [
       "surgery                    0.0\n",
       "age                        0.0\n",
       "hospital_number            0.0\n",
       "rectal_temp                0.0\n",
       "pulse                      0.0\n",
       "respiratory_rate           0.0\n",
       "temperature_extremities    0.0\n",
       "peripheral_pulse           0.0\n",
       "mucous_membrane            0.0\n",
       "capillary_refill_time      0.0\n",
       "pain                       0.0\n",
       "peristalsis                0.0\n",
       "abdominal_distention       0.0\n",
       "nasogastric_tube           0.0\n",
       "nasogastric_reflux         0.0\n",
       "nasogastric_reflux_ph      0.0\n",
       "rectal_exam_feces          0.0\n",
       "abdomen                    0.0\n",
       "packed_cell_volume         0.0\n",
       "total_protein              0.0\n",
       "abdom_appearance           0.0\n",
       "abdom_total_protein        0.0\n",
       "outcome                    0.0\n",
       "surgical_lesion            0.0\n",
       "lesion_1                   0.0\n",
       "lesion_2                   0.0\n",
       "lesion_3                   0.0\n",
       "cp_data                    0.0\n",
       "dtype: float64"
      ]
     },
     "execution_count": 20,
     "metadata": {},
     "output_type": "execute_result"
    }
   ],
   "source": [
    "(data.isna().mean() * 100).round(2)"
   ]
  },
  {
   "cell_type": "code",
   "execution_count": null,
   "id": "b79286e2-d3ed-46c9-91eb-066dc2cc3cc9",
   "metadata": {},
   "outputs": [],
   "source": [
    "#пропусков нет, всвязи с чем вопросики заменим на nan"
   ]
  },
  {
   "cell_type": "code",
   "execution_count": 23,
   "id": "8328707a-4045-4817-89e4-0deaf51ff266",
   "metadata": {},
   "outputs": [
    {
     "name": "stdout",
     "output_type": "stream",
     "text": [
      "surgery                     0.33\n",
      "age                         0.00\n",
      "hospital_number             0.00\n",
      "rectal_temp                20.00\n",
      "pulse                       8.00\n",
      "respiratory_rate           19.33\n",
      "temperature_extremities    18.67\n",
      "peripheral_pulse           23.00\n",
      "mucous_membrane            15.67\n",
      "capillary_refill_time      10.67\n",
      "pain                       18.33\n",
      "peristalsis                14.67\n",
      "abdominal_distention       18.67\n",
      "nasogastric_tube           34.67\n",
      "nasogastric_reflux         35.33\n",
      "nasogastric_reflux_ph      82.33\n",
      "rectal_exam_feces          34.00\n",
      "abdomen                    39.33\n",
      "packed_cell_volume          9.67\n",
      "total_protein              11.00\n",
      "abdom_appearance           55.00\n",
      "abdom_total_protein        66.00\n",
      "outcome                     0.33\n",
      "surgical_lesion             0.00\n",
      "lesion_1                    0.00\n",
      "lesion_2                    0.00\n",
      "lesion_3                    0.00\n",
      "cp_data                     0.00\n",
      "dtype: float64\n"
     ]
    }
   ],
   "source": [
    "data.replace('?', np.nan, inplace=True)\n",
    "\n",
    "missing_percentage = (data.isna().mean() * 100).round(2)\n",
    "print(missing_percentage)"
   ]
  },
  {
   "cell_type": "code",
   "execution_count": 30,
   "id": "95ae014c-88de-402b-947a-7b17cf72580e",
   "metadata": {},
   "outputs": [],
   "source": [
    "data = data.copy()\n",
    "data['rectal_temp'] = data['rectal_temp'].fillna(data['rectal_temp'].mode()[0])"
   ]
  },
  {
   "cell_type": "code",
   "execution_count": 31,
   "id": "cd5257e6-d9e7-4b02-b756-028f7525503b",
   "metadata": {},
   "outputs": [
    {
     "data": {
      "text/plain": [
       "rectal_temp\n",
       "38.00    76\n",
       "37.80    13\n",
       "38.30    12\n",
       "38.50    10\n",
       "38.60    10\n",
       "         ..\n",
       "36.40     1\n",
       "39.7      1\n",
       "35.4      1\n",
       "39.90     1\n",
       "37.2      1\n",
       "Name: count, Length: 65, dtype: int64"
      ]
     },
     "execution_count": 31,
     "metadata": {},
     "output_type": "execute_result"
    }
   ],
   "source": [
    "data['rectal_temp'].value_counts()"
   ]
  },
  {
   "cell_type": "code",
   "execution_count": 33,
   "id": "3a5fdc37-3b8e-491a-b167-bb8e4d345bfa",
   "metadata": {},
   "outputs": [],
   "source": [
    "data[['pulse', 'respiratory_rate', 'temperature_extremities']] = data[['pulse', 'respiratory_rate', 'temperature_extremities']].fillna(data[['pulse', 'respiratory_rate', 'temperature_extremities']].mode().iloc[0])"
   ]
  },
  {
   "cell_type": "code",
   "execution_count": 34,
   "id": "63650401-a644-4699-8aa5-76bf5fb243fc",
   "metadata": {},
   "outputs": [],
   "source": [
    "data[['peripheral_pulse', 'mucous_membrane', 'capillary_refill_time', 'pain', 'peristalsis', 'abdominal_distention', 'nasogastric_tube', 'nasogastric_reflux', 'nasogastric_reflux_ph']] = data[['peripheral_pulse', 'mucous_membrane', 'capillary_refill_time', 'pain', 'peristalsis', 'abdominal_distention', 'nasogastric_tube', 'nasogastric_reflux', 'nasogastric_reflux_ph']].fillna(data[['peripheral_pulse', 'mucous_membrane', 'capillary_refill_time', 'pain', 'peristalsis', 'abdominal_distention', 'nasogastric_tube', 'nasogastric_reflux', 'nasogastric_reflux_ph']].mode().iloc[0])"
   ]
  },
  {
   "cell_type": "code",
   "execution_count": 35,
   "id": "4545aff3-e508-4676-8ec3-585bb2ca7cca",
   "metadata": {},
   "outputs": [
    {
     "name": "stdout",
     "output_type": "stream",
     "text": [
      "surgery                     0.33\n",
      "age                         0.00\n",
      "hospital_number             0.00\n",
      "rectal_temp                 0.00\n",
      "pulse                       0.00\n",
      "respiratory_rate            0.00\n",
      "temperature_extremities     0.00\n",
      "peripheral_pulse            0.00\n",
      "mucous_membrane             0.00\n",
      "capillary_refill_time       0.00\n",
      "pain                        0.00\n",
      "peristalsis                 0.00\n",
      "abdominal_distention        0.00\n",
      "nasogastric_tube            0.00\n",
      "nasogastric_reflux          0.00\n",
      "nasogastric_reflux_ph       0.00\n",
      "rectal_exam_feces          34.00\n",
      "abdomen                    39.33\n",
      "packed_cell_volume          9.67\n",
      "total_protein              11.00\n",
      "abdom_appearance           55.00\n",
      "abdom_total_protein        66.00\n",
      "outcome                     0.33\n",
      "surgical_lesion             0.00\n",
      "lesion_1                    0.00\n",
      "lesion_2                    0.00\n",
      "lesion_3                    0.00\n",
      "cp_data                     0.00\n",
      "dtype: float64\n"
     ]
    }
   ],
   "source": [
    "missing_percentage = (data.isna().mean() * 100).round(2)\n",
    "print(missing_percentage)"
   ]
  },
  {
   "cell_type": "code",
   "execution_count": 36,
   "id": "edd77b53-31f7-4d5d-815b-cfe8d09b8c29",
   "metadata": {},
   "outputs": [],
   "source": [
    "data[['rectal_exam_feces', 'abdomen', 'packed_cell_volume', 'total_protein', 'abdom_appearance', 'abdom_total_protein', 'outcome', 'surgery']] = data[['rectal_exam_feces', 'abdomen', 'packed_cell_volume', 'total_protein', 'abdom_appearance', 'abdom_total_protein', 'outcome', 'surgery']].fillna(data[['rectal_exam_feces', 'abdomen', 'packed_cell_volume', 'total_protein', 'abdom_appearance', 'abdom_total_protein', 'outcome', 'surgery']].mode().iloc[0])"
   ]
  },
  {
   "cell_type": "code",
   "execution_count": 37,
   "id": "0afa37c5-ccda-49a0-bef8-02de6e7df595",
   "metadata": {},
   "outputs": [
    {
     "name": "stdout",
     "output_type": "stream",
     "text": [
      "surgery                    0.0\n",
      "age                        0.0\n",
      "hospital_number            0.0\n",
      "rectal_temp                0.0\n",
      "pulse                      0.0\n",
      "respiratory_rate           0.0\n",
      "temperature_extremities    0.0\n",
      "peripheral_pulse           0.0\n",
      "mucous_membrane            0.0\n",
      "capillary_refill_time      0.0\n",
      "pain                       0.0\n",
      "peristalsis                0.0\n",
      "abdominal_distention       0.0\n",
      "nasogastric_tube           0.0\n",
      "nasogastric_reflux         0.0\n",
      "nasogastric_reflux_ph      0.0\n",
      "rectal_exam_feces          0.0\n",
      "abdomen                    0.0\n",
      "packed_cell_volume         0.0\n",
      "total_protein              0.0\n",
      "abdom_appearance           0.0\n",
      "abdom_total_protein        0.0\n",
      "outcome                    0.0\n",
      "surgical_lesion            0.0\n",
      "lesion_1                   0.0\n",
      "lesion_2                   0.0\n",
      "lesion_3                   0.0\n",
      "cp_data                    0.0\n",
      "dtype: float64\n"
     ]
    }
   ],
   "source": [
    "missing_percentage = (data.isna().mean() * 100).round(2)\n",
    "print(missing_percentage)"
   ]
  },
  {
   "cell_type": "code",
   "execution_count": null,
   "id": "7178e421-f24b-47c0-9747-a374706b7d60",
   "metadata": {},
   "outputs": [],
   "source": []
  }
 ],
 "metadata": {
  "kernelspec": {
   "display_name": "Python 3 (ipykernel)",
   "language": "python",
   "name": "python3"
  },
  "language_info": {
   "codemirror_mode": {
    "name": "ipython",
    "version": 3
   },
   "file_extension": ".py",
   "mimetype": "text/x-python",
   "name": "python",
   "nbconvert_exporter": "python",
   "pygments_lexer": "ipython3",
   "version": "3.13.1"
  }
 },
 "nbformat": 4,
 "nbformat_minor": 5
}
