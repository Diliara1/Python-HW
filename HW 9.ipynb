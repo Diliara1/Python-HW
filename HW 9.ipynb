{
 "cells": [
  {
   "cell_type": "code",
   "execution_count": 1,
   "id": "02ae2e20-9d70-407a-bbf2-66a8b7fb2d63",
   "metadata": {},
   "outputs": [
    {
     "name": "stdout",
     "output_type": "stream",
     "text": [
      "Всего потрачено: 100000 руб.\n",
      "Всего выиграно: 81487 руб.\n",
      "Средний результат за игру: -0.19 руб.\n",
      "Игра невыгодна для игрока.\n"
     ]
    }
   ],
   "source": [
    "import numpy as np\n",
    "\n",
    "trials = 100000  # Количество попыток\n",
    "cost_per_game = 1  # Стоимость одной игры\n",
    "\n",
    "total_spent = trials * cost_per_game\n",
    "\n",
    "total_won = 0\n",
    "\n",
    "for _ in range(trials):\n",
    "    random_number = np.random.randint(0, 1000) \n",
    "\n",
    "    if random_number == 777:\n",
    "        total_won += 200\n",
    "    elif random_number == 999:\n",
    "        total_won += 100\n",
    "    elif random_number == 555:\n",
    "        total_won += 50\n",
    "    elif random_number == 333:\n",
    "        total_won += 15\n",
    "    elif random_number == 111:\n",
    "        total_won += 10\n",
    "    elif random_number % 100 == 77:\n",
    "        total_won += 5\n",
    "    elif random_number % 10 == 7:\n",
    "        total_won += 3\n",
    "    elif random_number % 100 == 0:\n",
    "        total_won += 2\n",
    "    elif random_number % 10 == 0:\n",
    "        total_won += 1\n",
    "\n",
    "average_result = (total_won - total_spent) / trials\n",
    "\n",
    "print(f\"Всего потрачено: {total_spent} руб.\")\n",
    "print(f\"Всего выиграно: {total_won} руб.\")\n",
    "print(f\"Средний результат за игру: {average_result:.2f} руб.\")\n",
    "\n",
    "if average_result < 0:\n",
    "    print(\"Игра невыгодна для игрока.\")\n",
    "else:\n",
    "    print(\"Игра выгодна для игрока.\")"
   ]
  },
  {
   "cell_type": "code",
   "execution_count": null,
   "id": "d0a32026-8592-4983-a13e-12ff15f09392",
   "metadata": {},
   "outputs": [],
   "source": []
  }
 ],
 "metadata": {
  "kernelspec": {
   "display_name": "Python 3 (ipykernel)",
   "language": "python",
   "name": "python3"
  },
  "language_info": {
   "codemirror_mode": {
    "name": "ipython",
    "version": 3
   },
   "file_extension": ".py",
   "mimetype": "text/x-python",
   "name": "python",
   "nbconvert_exporter": "python",
   "pygments_lexer": "ipython3",
   "version": "3.13.1"
  }
 },
 "nbformat": 4,
 "nbformat_minor": 5
}
